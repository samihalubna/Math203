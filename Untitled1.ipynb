{
 "cells": [
  {
   "cell_type": "markdown",
   "metadata": {},
   "source": [
    "# Assignment Question 1"
   ]
  },
  {
   "cell_type": "markdown",
   "metadata": {},
   "source": [
    "Write a funtion called rectangle that takes two integers m and n as arguments and print out an m*n box consisting of asterisks."
   ]
  },
  {
   "cell_type": "code",
   "execution_count": 20,
   "metadata": {},
   "outputs": [
    {
     "name": "stdout",
     "output_type": "stream",
     "text": [
      "Enter two variable for rectangle shape\n",
      "length value = 3\n",
      "breadth value = 4\n",
      "\n",
      "*  *  *  *  \n",
      "*  *  *  *  \n",
      "*  *  *  * \n"
     ]
    }
   ],
   "source": [
    "def main():\n",
    "    print 'Enter two variable for rectangle shape'\n",
    "    l = input('length value = ' )\n",
    "    b = input('breadth value = ')\n",
    "    Rectangle(m=l,n=b)\n",
    "    \n",
    "def Rectangle(m,n):\n",
    "    for i in range(m):\n",
    "        print ''\n",
    "        for j in range(n):\n",
    "            print '* ',\n",
    "        \n",
    "    \n",
    "main()    "
   ]
  },
  {
   "cell_type": "markdown",
   "metadata": {},
   "source": [
    "In this code the nested loop creates the boc one row at time and empty print was given so that the loop enter/jumps to the next colomb ."
   ]
  }
 ],
 "metadata": {
  "kernelspec": {
   "display_name": "Python 2",
   "language": "python",
   "name": "python2"
  },
  "language_info": {
   "codemirror_mode": {
    "name": "ipython",
    "version": 2
   },
   "file_extension": ".py",
   "mimetype": "text/x-python",
   "name": "python",
   "nbconvert_exporter": "python",
   "pygments_lexer": "ipython2",
   "version": "2.7.15"
  }
 },
 "nbformat": 4,
 "nbformat_minor": 2
}
