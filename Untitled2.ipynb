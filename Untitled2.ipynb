{
 "cells": [
  {
   "cell_type": "markdown",
   "metadata": {},
   "source": [
    "# Assignment Question 2"
   ]
  },
  {
   "cell_type": "markdown",
   "metadata": {},
   "source": [
    "Write a function called add_excitement that takes a list of strings and adds an exclamation point ( ! ) to the end of each string in the list. The program should modify the original list and not return anything."
   ]
  },
  {
   "cell_type": "code",
   "execution_count": 3,
   "metadata": {},
   "outputs": [
    {
     "name": "stdout",
     "output_type": "stream",
     "text": [
      "Type in 5 phrases to be shouted at you\n",
      "0 phrase is\n",
      "hi\n",
      "1 phrase is\n",
      "stuped\n",
      "2 phrase is\n",
      "test\n",
      "3 phrase is\n",
      "luck\n",
      "4 phrase is\n",
      "nut\n",
      "hi!\n",
      "stuped!\n",
      "test!\n",
      "luck!\n",
      "nut!\n"
     ]
    }
   ],
   "source": [
    "shout=['a','b','c','d','e']\n",
    "ext='!'\n",
    "def main():\n",
    "    print 'Type in 5 phrases to be shouted at you'\n",
    "    for i in range(5):\n",
    "        print i,'phrase is'\n",
    "        shout[i]=raw_input('')\n",
    "        \n",
    "    add_excitement()\n",
    "    \n",
    "def add_excitement():\n",
    "    for i in range(5):\n",
    "        print shout[i]+ext\n",
    "        \n",
    "main()        "
   ]
  },
  {
   "cell_type": "markdown",
   "metadata": {},
   "source": [
    "loop is used to store a string at a time in a list then the required function is called to add excitement by conbining two strings. "
   ]
  }
 ],
 "metadata": {
  "kernelspec": {
   "display_name": "Python 2",
   "language": "python",
   "name": "python2"
  },
  "language_info": {
   "codemirror_mode": {
    "name": "ipython",
    "version": 2
   },
   "file_extension": ".py",
   "mimetype": "text/x-python",
   "name": "python",
   "nbconvert_exporter": "python",
   "pygments_lexer": "ipython2",
   "version": "2.7.15"
  }
 },
 "nbformat": 4,
 "nbformat_minor": 2
}
