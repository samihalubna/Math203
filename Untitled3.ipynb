{
 "cells": [
  {
   "cell_type": "markdown",
   "metadata": {},
   "source": [
    "# Assignment Question 3"
   ]
  },
  {
   "cell_type": "markdown",
   "metadata": {},
   "source": [
    "Write the same function except that it should not modify the original list and should instead return a new list."
   ]
  },
  {
   "cell_type": "code",
   "execution_count": 1,
   "metadata": {},
   "outputs": [
    {
     "name": "stdout",
     "output_type": "stream",
     "text": [
      "Type in 8 phrases to be shouted at you\n",
      "0 phrase is\n",
      "I'm holding on\n",
      "1 phrase is\n",
      "Why is everything so heavy?\n",
      "2 phrase is\n",
      "Holding on\n",
      "3 phrase is\n",
      "So much more than I can carry\n",
      "4 phrase is\n",
      "I keep dragging around what's bringing me down\n",
      "5 phrase is\n",
      "If I just let go, I'd be set free\n",
      "6 phrase is\n",
      "Holding on\n",
      "7 phrase is\n",
      "Why is everything so heavy?\n",
      "You say that I'm paranoid\n",
      "But I'm pretty sure the world is out to get me\n",
      "It's not like I make the choice\n",
      "To let my mind stay so fucking messy\n",
      "I know I'm not the center of the universe\n",
      "But you keep spinning 'round me just the same\n",
      "I know I'm not the center of the universe\n",
      "But you keep spinning 'round me just the same\n",
      "**You say that I'm paranoid\n",
      "**But I'm pretty sure the world is out to get me\n",
      "**It's not like I make the choice\n",
      "**To let my mind stay so fucking messy\n",
      "**I know I'm not the center of the universe\n",
      "**But you keep spinning 'round me just the same\n",
      "**I know I'm not the center of the universe\n",
      "**But you keep spinning 'round me just the same\n"
     ]
    }
   ],
   "source": [
    "shout=['a','b','c','d','e','f','g','h']\n",
    "new=['j','k','l','m','n','o','p','q']\n",
    "z = '**'\n",
    "def main():\n",
    "    print 'Type in 8 phrases to be shouted at you'\n",
    "    for i in range(8):\n",
    "        print i,'phrase is'\n",
    "        shout[i]=raw_input('')\n",
    "        \n",
    "    add_nothing()\n",
    "    for i in range(8):\n",
    "        print z+new[i]\n",
    "    \n",
    "def add_nothing():\n",
    "    for i in range(8):\n",
    "        new[i]=raw_input('')\n",
    "     \n",
    "    return new \n",
    "        \n",
    "main()"
   ]
  }
 ],
 "metadata": {
  "kernelspec": {
   "display_name": "Python 2",
   "language": "python",
   "name": "python2"
  },
  "language_info": {
   "codemirror_mode": {
    "name": "ipython",
    "version": 2
   },
   "file_extension": ".py",
   "mimetype": "text/x-python",
   "name": "python",
   "nbconvert_exporter": "python",
   "pygments_lexer": "ipython2",
   "version": "2.7.15"
  }
 },
 "nbformat": 4,
 "nbformat_minor": 2
}
