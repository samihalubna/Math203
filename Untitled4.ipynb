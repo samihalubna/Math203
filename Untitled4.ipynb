{
 "cells": [
  {
   "cell_type": "markdown",
   "metadata": {},
   "source": [
    "# Assignment Question 4"
   ]
  },
  {
   "cell_type": "markdown",
   "metadata": {},
   "source": [
    "The digital root of a number n is obtained as follows: Add up the digits n to get a new number. Add up the digits of that to get another new number. Keep doing this until you get a number that has only one digit. That number is the digital root. For example, if n = 45893 , we add up the digits to get 4 + 5 + 8 + 9 + 3 = 29 . We then add up the digits of 29 to get 2 + 9 = 11 . We then add up the digits of 11 to get 1 + 1 = 2 . Since 2 has only one digit, 2 is our digital root. Write a function that returns the digital root of an integer n . [Note: there is a shortcut, where the digital root is equal to n mod 9, but do not use that here.]"
   ]
  },
  {
   "cell_type": "code",
   "execution_count": 6,
   "metadata": {},
   "outputs": [
    {
     "name": "stdout",
     "output_type": "stream",
     "text": [
      "Enter the number to find it digital root1234\n",
      "1234 \n",
      "\n",
      "The digital root of 1234 is: 1\n"
     ]
    }
   ],
   "source": [
    "def main():\n",
    "    num = raw_input ('Enter the number to find it digital root')\n",
    "    print num, '\\n'\n",
    "    D_root(num)\n",
    "    print 'The digital root of',num,'is:',D_root(num)\n",
    "    \n",
    "def D_root(num):\n",
    "    if len(num) ==1:\n",
    "        return num\n",
    "    else:\n",
    "        sum = 0\n",
    "        for i in num:\n",
    "            sum += int(i)\n",
    "        num = str(sum)\n",
    "        return D_root(num)\n",
    "main()    "
   ]
  },
  {
   "cell_type": "markdown",
   "metadata": {},
   "source": [
    "Here two in-built fuction was used to break the number to be break into single units and add the sum "
   ]
  }
 ],
 "metadata": {
  "kernelspec": {
   "display_name": "Python 2",
   "language": "python",
   "name": "python2"
  },
  "language_info": {
   "codemirror_mode": {
    "name": "ipython",
    "version": 2
   },
   "file_extension": ".py",
   "mimetype": "text/x-python",
   "name": "python",
   "nbconvert_exporter": "python",
   "pygments_lexer": "ipython2",
   "version": "2.7.15"
  }
 },
 "nbformat": 4,
 "nbformat_minor": 2
}
